{
 "cells": [
  {
   "cell_type": "markdown",
   "metadata": {},
   "source": [
    "## Observations and Insights"
   ]
  },
  {
   "cell_type": "markdown",
   "metadata": {},
   "source": []
  },
  {
   "cell_type": "markdown",
   "metadata": {},
   "source": [
    "## Dependencies and starter code"
   ]
  },
  {
   "cell_type": "code",
   "execution_count": 1,
   "metadata": {},
   "outputs": [],
   "source": [
    "#OBSERVATIONS:\n",
    "#1. Maximum number of data points have been recorded for the Drug regimen Capomulin.\n",
    "#2. Study was conducted on a greater percentage of male mice than female mice.\n",
    "#3. There is strong positive correlation between the mouse weight and average tumor volume for Capomulin drug regimen\n",
    "#4. There are no outliers for Capomulin, Ramicane and Ceftamin drug regimen for final tumor volume of each mouse Id \n",
    "#   and only one outlier in case of Infubinol, this can be seen both quantitatively and also by box and whisker plot  \n"
   ]
  },
  {
   "cell_type": "code",
   "execution_count": 2,
   "metadata": {},
   "outputs": [],
   "source": [
    "# Dependencies and Setup\n",
    "import matplotlib.pyplot as plt\n",
    "import pandas as pd\n",
    "import scipy.stats as st\n",
    "import scipy.stats as sem\n",
    "import numpy as np\n",
    "from scipy.stats import linregress\n",
    "\n",
    "# Study data files\n",
    "mouse_metadata = \"data/Mouse_metadata.csv\"\n",
    "study_results = \"data/Study_results.csv\"\n",
    "\n",
    "# Read the mouse data and the study results\n",
    "mouse_metadata = pd.read_csv(mouse_metadata)\n",
    "study_results = pd.read_csv(study_results)\n",
    "\n"
   ]
  },
  {
   "cell_type": "code",
   "execution_count": 3,
   "metadata": {},
   "outputs": [
    {
     "data": {
      "text/html": [
       "<div>\n",
       "<style scoped>\n",
       "    .dataframe tbody tr th:only-of-type {\n",
       "        vertical-align: middle;\n",
       "    }\n",
       "\n",
       "    .dataframe tbody tr th {\n",
       "        vertical-align: top;\n",
       "    }\n",
       "\n",
       "    .dataframe thead th {\n",
       "        text-align: right;\n",
       "    }\n",
       "</style>\n",
       "<table border=\"1\" class=\"dataframe\">\n",
       "  <thead>\n",
       "    <tr style=\"text-align: right;\">\n",
       "      <th></th>\n",
       "      <th>Mouse ID</th>\n",
       "      <th>Drug Regimen</th>\n",
       "      <th>Sex</th>\n",
       "      <th>Age_months</th>\n",
       "      <th>Weight (g)</th>\n",
       "    </tr>\n",
       "  </thead>\n",
       "  <tbody>\n",
       "    <tr>\n",
       "      <td>0</td>\n",
       "      <td>k403</td>\n",
       "      <td>Ramicane</td>\n",
       "      <td>Male</td>\n",
       "      <td>21</td>\n",
       "      <td>16</td>\n",
       "    </tr>\n",
       "    <tr>\n",
       "      <td>1</td>\n",
       "      <td>s185</td>\n",
       "      <td>Capomulin</td>\n",
       "      <td>Female</td>\n",
       "      <td>3</td>\n",
       "      <td>17</td>\n",
       "    </tr>\n",
       "    <tr>\n",
       "      <td>2</td>\n",
       "      <td>x401</td>\n",
       "      <td>Capomulin</td>\n",
       "      <td>Female</td>\n",
       "      <td>16</td>\n",
       "      <td>15</td>\n",
       "    </tr>\n",
       "    <tr>\n",
       "      <td>3</td>\n",
       "      <td>m601</td>\n",
       "      <td>Capomulin</td>\n",
       "      <td>Male</td>\n",
       "      <td>22</td>\n",
       "      <td>17</td>\n",
       "    </tr>\n",
       "    <tr>\n",
       "      <td>4</td>\n",
       "      <td>g791</td>\n",
       "      <td>Ramicane</td>\n",
       "      <td>Male</td>\n",
       "      <td>11</td>\n",
       "      <td>16</td>\n",
       "    </tr>\n",
       "  </tbody>\n",
       "</table>\n",
       "</div>"
      ],
      "text/plain": [
       "  Mouse ID Drug Regimen     Sex  Age_months  Weight (g)\n",
       "0     k403     Ramicane    Male          21          16\n",
       "1     s185    Capomulin  Female           3          17\n",
       "2     x401    Capomulin  Female          16          15\n",
       "3     m601    Capomulin    Male          22          17\n",
       "4     g791     Ramicane    Male          11          16"
      ]
     },
     "execution_count": 3,
     "metadata": {},
     "output_type": "execute_result"
    }
   ],
   "source": [
    "mouse_metadata.head()\n",
    "#len(mouse_metadata)"
   ]
  },
  {
   "cell_type": "code",
   "execution_count": 4,
   "metadata": {},
   "outputs": [
    {
     "data": {
      "text/html": [
       "<div>\n",
       "<style scoped>\n",
       "    .dataframe tbody tr th:only-of-type {\n",
       "        vertical-align: middle;\n",
       "    }\n",
       "\n",
       "    .dataframe tbody tr th {\n",
       "        vertical-align: top;\n",
       "    }\n",
       "\n",
       "    .dataframe thead th {\n",
       "        text-align: right;\n",
       "    }\n",
       "</style>\n",
       "<table border=\"1\" class=\"dataframe\">\n",
       "  <thead>\n",
       "    <tr style=\"text-align: right;\">\n",
       "      <th></th>\n",
       "      <th>Mouse ID</th>\n",
       "      <th>Timepoint</th>\n",
       "      <th>Tumor Volume (mm3)</th>\n",
       "      <th>Metastatic Sites</th>\n",
       "    </tr>\n",
       "  </thead>\n",
       "  <tbody>\n",
       "    <tr>\n",
       "      <td>0</td>\n",
       "      <td>b128</td>\n",
       "      <td>0</td>\n",
       "      <td>45.0</td>\n",
       "      <td>0</td>\n",
       "    </tr>\n",
       "    <tr>\n",
       "      <td>1</td>\n",
       "      <td>f932</td>\n",
       "      <td>0</td>\n",
       "      <td>45.0</td>\n",
       "      <td>0</td>\n",
       "    </tr>\n",
       "    <tr>\n",
       "      <td>2</td>\n",
       "      <td>g107</td>\n",
       "      <td>0</td>\n",
       "      <td>45.0</td>\n",
       "      <td>0</td>\n",
       "    </tr>\n",
       "    <tr>\n",
       "      <td>3</td>\n",
       "      <td>a457</td>\n",
       "      <td>0</td>\n",
       "      <td>45.0</td>\n",
       "      <td>0</td>\n",
       "    </tr>\n",
       "    <tr>\n",
       "      <td>4</td>\n",
       "      <td>c819</td>\n",
       "      <td>0</td>\n",
       "      <td>45.0</td>\n",
       "      <td>0</td>\n",
       "    </tr>\n",
       "  </tbody>\n",
       "</table>\n",
       "</div>"
      ],
      "text/plain": [
       "  Mouse ID  Timepoint  Tumor Volume (mm3)  Metastatic Sites\n",
       "0     b128          0                45.0                 0\n",
       "1     f932          0                45.0                 0\n",
       "2     g107          0                45.0                 0\n",
       "3     a457          0                45.0                 0\n",
       "4     c819          0                45.0                 0"
      ]
     },
     "execution_count": 4,
     "metadata": {},
     "output_type": "execute_result"
    }
   ],
   "source": [
    "study_results.head()\n",
    "#len(study_results)"
   ]
  },
  {
   "cell_type": "code",
   "execution_count": 5,
   "metadata": {},
   "outputs": [
    {
     "data": {
      "text/html": [
       "<div>\n",
       "<style scoped>\n",
       "    .dataframe tbody tr th:only-of-type {\n",
       "        vertical-align: middle;\n",
       "    }\n",
       "\n",
       "    .dataframe tbody tr th {\n",
       "        vertical-align: top;\n",
       "    }\n",
       "\n",
       "    .dataframe thead th {\n",
       "        text-align: right;\n",
       "    }\n",
       "</style>\n",
       "<table border=\"1\" class=\"dataframe\">\n",
       "  <thead>\n",
       "    <tr style=\"text-align: right;\">\n",
       "      <th></th>\n",
       "      <th>Mouse ID</th>\n",
       "      <th>Timepoint</th>\n",
       "      <th>Tumor Volume (mm3)</th>\n",
       "      <th>Metastatic Sites</th>\n",
       "      <th>Drug Regimen</th>\n",
       "      <th>Sex</th>\n",
       "      <th>Age_months</th>\n",
       "      <th>Weight (g)</th>\n",
       "    </tr>\n",
       "  </thead>\n",
       "  <tbody>\n",
       "    <tr>\n",
       "      <td>0</td>\n",
       "      <td>b128</td>\n",
       "      <td>0</td>\n",
       "      <td>45.000000</td>\n",
       "      <td>0</td>\n",
       "      <td>Capomulin</td>\n",
       "      <td>Female</td>\n",
       "      <td>9</td>\n",
       "      <td>22</td>\n",
       "    </tr>\n",
       "    <tr>\n",
       "      <td>1</td>\n",
       "      <td>b128</td>\n",
       "      <td>5</td>\n",
       "      <td>45.651331</td>\n",
       "      <td>0</td>\n",
       "      <td>Capomulin</td>\n",
       "      <td>Female</td>\n",
       "      <td>9</td>\n",
       "      <td>22</td>\n",
       "    </tr>\n",
       "    <tr>\n",
       "      <td>2</td>\n",
       "      <td>b128</td>\n",
       "      <td>10</td>\n",
       "      <td>43.270852</td>\n",
       "      <td>0</td>\n",
       "      <td>Capomulin</td>\n",
       "      <td>Female</td>\n",
       "      <td>9</td>\n",
       "      <td>22</td>\n",
       "    </tr>\n",
       "    <tr>\n",
       "      <td>3</td>\n",
       "      <td>b128</td>\n",
       "      <td>15</td>\n",
       "      <td>43.784893</td>\n",
       "      <td>0</td>\n",
       "      <td>Capomulin</td>\n",
       "      <td>Female</td>\n",
       "      <td>9</td>\n",
       "      <td>22</td>\n",
       "    </tr>\n",
       "    <tr>\n",
       "      <td>4</td>\n",
       "      <td>b128</td>\n",
       "      <td>20</td>\n",
       "      <td>42.731552</td>\n",
       "      <td>0</td>\n",
       "      <td>Capomulin</td>\n",
       "      <td>Female</td>\n",
       "      <td>9</td>\n",
       "      <td>22</td>\n",
       "    </tr>\n",
       "    <tr>\n",
       "      <td>5</td>\n",
       "      <td>b128</td>\n",
       "      <td>25</td>\n",
       "      <td>43.262145</td>\n",
       "      <td>1</td>\n",
       "      <td>Capomulin</td>\n",
       "      <td>Female</td>\n",
       "      <td>9</td>\n",
       "      <td>22</td>\n",
       "    </tr>\n",
       "    <tr>\n",
       "      <td>6</td>\n",
       "      <td>b128</td>\n",
       "      <td>30</td>\n",
       "      <td>40.605335</td>\n",
       "      <td>1</td>\n",
       "      <td>Capomulin</td>\n",
       "      <td>Female</td>\n",
       "      <td>9</td>\n",
       "      <td>22</td>\n",
       "    </tr>\n",
       "    <tr>\n",
       "      <td>7</td>\n",
       "      <td>b128</td>\n",
       "      <td>35</td>\n",
       "      <td>37.967644</td>\n",
       "      <td>1</td>\n",
       "      <td>Capomulin</td>\n",
       "      <td>Female</td>\n",
       "      <td>9</td>\n",
       "      <td>22</td>\n",
       "    </tr>\n",
       "    <tr>\n",
       "      <td>8</td>\n",
       "      <td>b128</td>\n",
       "      <td>40</td>\n",
       "      <td>38.379726</td>\n",
       "      <td>2</td>\n",
       "      <td>Capomulin</td>\n",
       "      <td>Female</td>\n",
       "      <td>9</td>\n",
       "      <td>22</td>\n",
       "    </tr>\n",
       "    <tr>\n",
       "      <td>9</td>\n",
       "      <td>b128</td>\n",
       "      <td>45</td>\n",
       "      <td>38.982878</td>\n",
       "      <td>2</td>\n",
       "      <td>Capomulin</td>\n",
       "      <td>Female</td>\n",
       "      <td>9</td>\n",
       "      <td>22</td>\n",
       "    </tr>\n",
       "    <tr>\n",
       "      <td>10</td>\n",
       "      <td>f932</td>\n",
       "      <td>0</td>\n",
       "      <td>45.000000</td>\n",
       "      <td>0</td>\n",
       "      <td>Ketapril</td>\n",
       "      <td>Male</td>\n",
       "      <td>15</td>\n",
       "      <td>29</td>\n",
       "    </tr>\n",
       "    <tr>\n",
       "      <td>11</td>\n",
       "      <td>g107</td>\n",
       "      <td>0</td>\n",
       "      <td>45.000000</td>\n",
       "      <td>0</td>\n",
       "      <td>Ketapril</td>\n",
       "      <td>Female</td>\n",
       "      <td>2</td>\n",
       "      <td>29</td>\n",
       "    </tr>\n",
       "    <tr>\n",
       "      <td>12</td>\n",
       "      <td>g107</td>\n",
       "      <td>5</td>\n",
       "      <td>48.791665</td>\n",
       "      <td>0</td>\n",
       "      <td>Ketapril</td>\n",
       "      <td>Female</td>\n",
       "      <td>2</td>\n",
       "      <td>29</td>\n",
       "    </tr>\n",
       "    <tr>\n",
       "      <td>13</td>\n",
       "      <td>g107</td>\n",
       "      <td>10</td>\n",
       "      <td>53.435987</td>\n",
       "      <td>0</td>\n",
       "      <td>Ketapril</td>\n",
       "      <td>Female</td>\n",
       "      <td>2</td>\n",
       "      <td>29</td>\n",
       "    </tr>\n",
       "    <tr>\n",
       "      <td>14</td>\n",
       "      <td>g107</td>\n",
       "      <td>15</td>\n",
       "      <td>58.135545</td>\n",
       "      <td>0</td>\n",
       "      <td>Ketapril</td>\n",
       "      <td>Female</td>\n",
       "      <td>2</td>\n",
       "      <td>29</td>\n",
       "    </tr>\n",
       "    <tr>\n",
       "      <td>15</td>\n",
       "      <td>g107</td>\n",
       "      <td>20</td>\n",
       "      <td>62.706031</td>\n",
       "      <td>0</td>\n",
       "      <td>Ketapril</td>\n",
       "      <td>Female</td>\n",
       "      <td>2</td>\n",
       "      <td>29</td>\n",
       "    </tr>\n",
       "    <tr>\n",
       "      <td>16</td>\n",
       "      <td>g107</td>\n",
       "      <td>25</td>\n",
       "      <td>64.663626</td>\n",
       "      <td>0</td>\n",
       "      <td>Ketapril</td>\n",
       "      <td>Female</td>\n",
       "      <td>2</td>\n",
       "      <td>29</td>\n",
       "    </tr>\n",
       "    <tr>\n",
       "      <td>17</td>\n",
       "      <td>g107</td>\n",
       "      <td>30</td>\n",
       "      <td>69.160520</td>\n",
       "      <td>0</td>\n",
       "      <td>Ketapril</td>\n",
       "      <td>Female</td>\n",
       "      <td>2</td>\n",
       "      <td>29</td>\n",
       "    </tr>\n",
       "    <tr>\n",
       "      <td>18</td>\n",
       "      <td>g107</td>\n",
       "      <td>35</td>\n",
       "      <td>71.905117</td>\n",
       "      <td>0</td>\n",
       "      <td>Ketapril</td>\n",
       "      <td>Female</td>\n",
       "      <td>2</td>\n",
       "      <td>29</td>\n",
       "    </tr>\n",
       "    <tr>\n",
       "      <td>19</td>\n",
       "      <td>a457</td>\n",
       "      <td>0</td>\n",
       "      <td>45.000000</td>\n",
       "      <td>0</td>\n",
       "      <td>Ketapril</td>\n",
       "      <td>Female</td>\n",
       "      <td>11</td>\n",
       "      <td>30</td>\n",
       "    </tr>\n",
       "  </tbody>\n",
       "</table>\n",
       "</div>"
      ],
      "text/plain": [
       "   Mouse ID  Timepoint  Tumor Volume (mm3)  Metastatic Sites Drug Regimen  \\\n",
       "0      b128          0           45.000000                 0    Capomulin   \n",
       "1      b128          5           45.651331                 0    Capomulin   \n",
       "2      b128         10           43.270852                 0    Capomulin   \n",
       "3      b128         15           43.784893                 0    Capomulin   \n",
       "4      b128         20           42.731552                 0    Capomulin   \n",
       "5      b128         25           43.262145                 1    Capomulin   \n",
       "6      b128         30           40.605335                 1    Capomulin   \n",
       "7      b128         35           37.967644                 1    Capomulin   \n",
       "8      b128         40           38.379726                 2    Capomulin   \n",
       "9      b128         45           38.982878                 2    Capomulin   \n",
       "10     f932          0           45.000000                 0     Ketapril   \n",
       "11     g107          0           45.000000                 0     Ketapril   \n",
       "12     g107          5           48.791665                 0     Ketapril   \n",
       "13     g107         10           53.435987                 0     Ketapril   \n",
       "14     g107         15           58.135545                 0     Ketapril   \n",
       "15     g107         20           62.706031                 0     Ketapril   \n",
       "16     g107         25           64.663626                 0     Ketapril   \n",
       "17     g107         30           69.160520                 0     Ketapril   \n",
       "18     g107         35           71.905117                 0     Ketapril   \n",
       "19     a457          0           45.000000                 0     Ketapril   \n",
       "\n",
       "       Sex  Age_months  Weight (g)  \n",
       "0   Female           9          22  \n",
       "1   Female           9          22  \n",
       "2   Female           9          22  \n",
       "3   Female           9          22  \n",
       "4   Female           9          22  \n",
       "5   Female           9          22  \n",
       "6   Female           9          22  \n",
       "7   Female           9          22  \n",
       "8   Female           9          22  \n",
       "9   Female           9          22  \n",
       "10    Male          15          29  \n",
       "11  Female           2          29  \n",
       "12  Female           2          29  \n",
       "13  Female           2          29  \n",
       "14  Female           2          29  \n",
       "15  Female           2          29  \n",
       "16  Female           2          29  \n",
       "17  Female           2          29  \n",
       "18  Female           2          29  \n",
       "19  Female          11          30  "
      ]
     },
     "execution_count": 5,
     "metadata": {},
     "output_type": "execute_result"
    }
   ],
   "source": [
    "# Combine the data into a single dataset\n",
    "Pharmaceuticals_df=pd.merge(study_results,mouse_metadata,on=\"Mouse ID\",how=\"outer\")\n",
    "Pharmaceuticals_df.head(20)"
   ]
  },
  {
   "cell_type": "code",
   "execution_count": 6,
   "metadata": {},
   "outputs": [
    {
     "data": {
      "text/plain": [
       "1893"
      ]
     },
     "execution_count": 6,
     "metadata": {},
     "output_type": "execute_result"
    }
   ],
   "source": [
    "#Calculating length of the DataFrame\n",
    "len(Pharmaceuticals_df)"
   ]
  },
  {
   "cell_type": "markdown",
   "metadata": {},
   "source": [
    "## Summary statistics"
   ]
  },
  {
   "cell_type": "code",
   "execution_count": 7,
   "metadata": {},
   "outputs": [],
   "source": [
    "#Grouping the merged dataframe by Drug Regimen  \n",
    "Pharma_group=Pharmaceuticals_df.groupby([\"Drug Regimen\"])\n"
   ]
  },
  {
   "cell_type": "code",
   "execution_count": 8,
   "metadata": {},
   "outputs": [
    {
     "data": {
      "text/html": [
       "<div>\n",
       "<style scoped>\n",
       "    .dataframe tbody tr th:only-of-type {\n",
       "        vertical-align: middle;\n",
       "    }\n",
       "\n",
       "    .dataframe tbody tr th {\n",
       "        vertical-align: top;\n",
       "    }\n",
       "\n",
       "    .dataframe thead th {\n",
       "        text-align: right;\n",
       "    }\n",
       "</style>\n",
       "<table border=\"1\" class=\"dataframe\">\n",
       "  <thead>\n",
       "    <tr style=\"text-align: right;\">\n",
       "      <th></th>\n",
       "      <th>Mean</th>\n",
       "      <th>Median</th>\n",
       "      <th>Variance</th>\n",
       "      <th>Standard Deviation</th>\n",
       "      <th>SEM</th>\n",
       "    </tr>\n",
       "    <tr>\n",
       "      <th>Drug Regimen</th>\n",
       "      <th></th>\n",
       "      <th></th>\n",
       "      <th></th>\n",
       "      <th></th>\n",
       "      <th></th>\n",
       "    </tr>\n",
       "  </thead>\n",
       "  <tbody>\n",
       "    <tr>\n",
       "      <td>Capomulin</td>\n",
       "      <td>40.68</td>\n",
       "      <td>41.56</td>\n",
       "      <td>24.95</td>\n",
       "      <td>4.99</td>\n",
       "      <td>0.33</td>\n",
       "    </tr>\n",
       "    <tr>\n",
       "      <td>Ceftamin</td>\n",
       "      <td>52.59</td>\n",
       "      <td>51.78</td>\n",
       "      <td>39.29</td>\n",
       "      <td>6.27</td>\n",
       "      <td>0.47</td>\n",
       "    </tr>\n",
       "    <tr>\n",
       "      <td>Infubinol</td>\n",
       "      <td>52.88</td>\n",
       "      <td>51.82</td>\n",
       "      <td>43.13</td>\n",
       "      <td>6.57</td>\n",
       "      <td>0.49</td>\n",
       "    </tr>\n",
       "    <tr>\n",
       "      <td>Ketapril</td>\n",
       "      <td>55.24</td>\n",
       "      <td>53.70</td>\n",
       "      <td>68.55</td>\n",
       "      <td>8.28</td>\n",
       "      <td>0.60</td>\n",
       "    </tr>\n",
       "    <tr>\n",
       "      <td>Naftisol</td>\n",
       "      <td>54.33</td>\n",
       "      <td>52.51</td>\n",
       "      <td>66.17</td>\n",
       "      <td>8.13</td>\n",
       "      <td>0.60</td>\n",
       "    </tr>\n",
       "    <tr>\n",
       "      <td>Placebo</td>\n",
       "      <td>54.03</td>\n",
       "      <td>52.29</td>\n",
       "      <td>61.17</td>\n",
       "      <td>7.82</td>\n",
       "      <td>0.58</td>\n",
       "    </tr>\n",
       "    <tr>\n",
       "      <td>Propriva</td>\n",
       "      <td>52.32</td>\n",
       "      <td>50.85</td>\n",
       "      <td>42.35</td>\n",
       "      <td>6.51</td>\n",
       "      <td>0.51</td>\n",
       "    </tr>\n",
       "    <tr>\n",
       "      <td>Ramicane</td>\n",
       "      <td>40.22</td>\n",
       "      <td>40.67</td>\n",
       "      <td>23.49</td>\n",
       "      <td>4.85</td>\n",
       "      <td>0.32</td>\n",
       "    </tr>\n",
       "    <tr>\n",
       "      <td>Stelasyn</td>\n",
       "      <td>54.23</td>\n",
       "      <td>52.43</td>\n",
       "      <td>59.45</td>\n",
       "      <td>7.71</td>\n",
       "      <td>0.57</td>\n",
       "    </tr>\n",
       "    <tr>\n",
       "      <td>Zoniferol</td>\n",
       "      <td>53.24</td>\n",
       "      <td>51.82</td>\n",
       "      <td>48.53</td>\n",
       "      <td>6.97</td>\n",
       "      <td>0.52</td>\n",
       "    </tr>\n",
       "  </tbody>\n",
       "</table>\n",
       "</div>"
      ],
      "text/plain": [
       "               Mean Median Variance Standard Deviation   SEM\n",
       "Drug Regimen                                                \n",
       "Capomulin     40.68  41.56    24.95               4.99  0.33\n",
       "Ceftamin      52.59  51.78    39.29               6.27  0.47\n",
       "Infubinol     52.88  51.82    43.13               6.57  0.49\n",
       "Ketapril      55.24  53.70    68.55               8.28  0.60\n",
       "Naftisol      54.33  52.51    66.17               8.13  0.60\n",
       "Placebo       54.03  52.29    61.17               7.82  0.58\n",
       "Propriva      52.32  50.85    42.35               6.51  0.51\n",
       "Ramicane      40.22  40.67    23.49               4.85  0.32\n",
       "Stelasyn      54.23  52.43    59.45               7.71  0.57\n",
       "Zoniferol     53.24  51.82    48.53               6.97  0.52"
      ]
     },
     "execution_count": 8,
     "metadata": {},
     "output_type": "execute_result"
    }
   ],
   "source": [
    "# Generate a summary statistics table of mean, median, variance, standard deviation, and SEM of the tumor volume for each regimen\n",
    "Summary_Statistics=pd.DataFrame({\"Mean\":Pharma_group[\"Tumor Volume (mm3)\"].mean().map(\"{:.2f}\".format),\"Median\":Pharma_group[\"Tumor Volume (mm3)\"].median().map(\"{:.2f}\".format),\"Variance\":Pharma_group[\"Tumor Volume (mm3)\"].var().map(\"{:.2f}\".format),\"Standard Deviation\":Pharma_group[\"Tumor Volume (mm3)\"].std().map(\"{:.2f}\".format),\"SEM\":Pharma_group[\"Tumor Volume (mm3)\"].sem().map(\"{:.2f}\".format)})\n",
    "Summary_Statistics  "
   ]
  },
  {
   "cell_type": "markdown",
   "metadata": {},
   "source": [
    "## Bar plots"
   ]
  },
  {
   "cell_type": "code",
   "execution_count": 9,
   "metadata": {},
   "outputs": [
    {
     "data": {
      "image/png": "[encoded data removed]",
      "text/plain": [
       "<Figure size 432x288 with 1 Axes>"
      ]
     },
     "metadata": {
      "needs_background": "light"
     },
     "output_type": "display_data"
    }
   ],
   "source": [
    "# Generate a bar plot showing number of data points for each treatment regimen using pandas\n",
    "\n",
    "#Calculating the data points for each drug regimen\n",
    "data_points=Pharma_group[\"Mouse ID\"].count()\n",
    "data_points\n",
    "\n",
    "#Bar plot showing number of data points for each treatment regimen\n",
    "data_points_chart=data_points.plot(kind=\"bar\",color=\"purple\",title=\"Number of data points for each treatment regimen\")\n",
    "data_points_chart.set_xlabel(\"Drug Regimen\")\n",
    "data_points_chart.set_ylabel(\"Number of Data points\")\n",
    "plt.show()"
   ]
  },
  {
   "cell_type": "code",
   "execution_count": 10,
   "metadata": {},
   "outputs": [
    {
     "data": {
      "image/png": "[encoded data removed]",
      "text/plain": [
       "<Figure size 432x288 with 1 Axes>"
      ]
     },
     "metadata": {
      "needs_background": "light"
     },
     "output_type": "display_data"
    }
   ],
   "source": [
    "# Generate a bar plot showing number of data points for each treatment regimen using pyplot\n",
    "\n",
    "#Storing the number of data points in a dataframe \n",
    "df_pyplot=pd.DataFrame({\"Count\":Pharma_group[\"Mouse ID\"].count()})\n",
    "\n",
    "#Generating a bar plot between the number of data points for each treatment\n",
    "x_labels=df_pyplot.index\n",
    "y_axis=df_pyplot[\"Count\"]\n",
    "plt.bar(x_labels,y_axis,color=\"green\",alpha=0.5)\n",
    "plt.xticks(rotation=\"vertical\")\n",
    "plt.xlabel(\"Drug Regimen\")\n",
    "plt.ylabel(\"Number of Data Points\")\n",
    "plt.title(\"Number of data points for each treatment regimen\")\n",
    "plt.show()"
   ]
  },
  {
   "cell_type": "markdown",
   "metadata": {},
   "source": [
    "## Pie plots"
   ]
  },
  {
   "cell_type": "code",
   "execution_count": 11,
   "metadata": {},
   "outputs": [
    {
     "data": {
      "image/png": "[encoded data removed]",
      "text/plain": [
       "<Figure size 432x288 with 1 Axes>"
      ]
     },
     "metadata": {},
     "output_type": "display_data"
    }
   ],
   "source": [
    "# Generate a pie plot showing the distribution of female versus male mice using pandas\n",
    "gender=Pharmaceuticals_df[\"Sex\"].value_counts()\n",
    "gender\n",
    "gender.plot(kind=\"pie\",autopct=\"%1.1f%%\",title=\"Distribution of female versus male mice\",startangle=90)\n",
    "plt.axis(\"equal\")\n",
    "plt.show()"
   ]
  },
  {
   "cell_type": "code",
   "execution_count": 12,
   "metadata": {},
   "outputs": [
    {
     "data": {
      "image/png": "[encoded data removed]",
      "text/plain": [
       "<Figure size 432x288 with 1 Axes>"
      ]
     },
     "metadata": {},
     "output_type": "display_data"
    }
   ],
   "source": [
    "# Generate a pie plot showing the distribution of female versus male mice using pyplot\n",
    "gender1=pd.DataFrame({\"Count\":Pharmaceuticals_df[\"Sex\"].value_counts()})\n",
    "labels=gender1.index\n",
    "colors=[\"green\",\"red\"]\n",
    "plt.pie(gender1[\"Count\"],labels=labels,colors=colors,autopct=\"%1.1f%%\",startangle=90)\n",
    "plt.ylabel(\"Sex\")\n",
    "plt.title(\"Distribution of female versus male mice\")\n",
    "plt.axis(\"equal\")\n",
    "plt.show()"
   ]
  },
  {
   "cell_type": "markdown",
   "metadata": {},
   "source": [
    "## Quartiles, outliers and boxplots"
   ]
  },
  {
   "cell_type": "code",
   "execution_count": 13,
   "metadata": {},
   "outputs": [],
   "source": [
    "# Calculate the final tumor volume of each mouse across four of the most promising treatment regimens. Calculate the IQR and quantitatively determine if there are any potential outliers. \n"
   ]
  },
  {
   "cell_type": "code",
   "execution_count": 14,
   "metadata": {},
   "outputs": [
    {
     "name": "stdout",
     "output_type": "stream",
     "text": [
      "The upper quartile, lower quartile, median and IQR of the final tumor volume for Capomulin Regimen is:\n",
      "Lower quartile: 32.3774\n",
      "Upper quartile: 40.1592\n",
      "IQR: 7.7819\n",
      "Median: 38.1252\n",
      "Tumor volume less than 20.7046 and greater than 51.832 are the potential outliers.\n",
      "Number of Outliers: 0\n",
      "No outliers.\n"
     ]
    }
   ],
   "source": [
    "#Creating a dataframe containing data for only Capomulin drug\n",
    "Capomulin_df=Pharmaceuticals_df.loc[Pharmaceuticals_df[\"Drug Regimen\"]==\"Capomulin\",:]\n",
    "\n",
    "#Grouping Capomulin dataframe by Mouse ID to extract the max timepoint and further use it in extracting the final\n",
    "#tumor volume for each mouse being treated by the drug capomulin\n",
    "Capomulin_group=Capomulin_df.groupby([\"Mouse ID\"])\n",
    "timespoint_max=Capomulin_group[\"Timepoint\"].max()\n",
    "timespoint_max\n",
    "list_times_index=timespoint_max.index\n",
    "vol=[]\n",
    "for i in range(len(timespoint_max)):\n",
    "    vol.append(float(Capomulin_df[(Capomulin_df[\"Mouse ID\"]==list_times_index[i])&(Capomulin_df[\"Timepoint\"]==timespoint_max[i])][\"Tumor Volume (mm3)\"]))\n",
    "vol  \n",
    " \n",
    "# Calculating the quartiles ,IQR and outliers quantitaively using the final tumor volume extracted for Capomulin drug\n",
    "vol_capomulin_df=pd.DataFrame({\"Final Tumor Volume\":vol})\n",
    "vol_capomulin=vol_capomulin_df[\"Final Tumor Volume\"]\n",
    "vol_capomulin\n",
    "quartiles1=vol_capomulin.quantile([0.25,0.5,0.75])\n",
    "lower_quartile1=quartiles1[0.25]\n",
    "upper_quartile1=quartiles1[0.75]\n",
    "iqr1=upper_quartile1-lower_quartile1\n",
    "print(\"The upper quartile, lower quartile, median and IQR of the final tumor volume for Capomulin Regimen is:\")\n",
    "print(f\"Lower quartile: {round(lower_quartile1,4)}\")\n",
    "print(f\"Upper quartile: {round(upper_quartile1,4)}\")\n",
    "print(f\"IQR: {round(iqr1,4)}\")\n",
    "print(f\"Median: {round(quartiles1[0.5],4)}\")\n",
    "lower_bound1 = lower_quartile1 - (1.5*iqr1)\n",
    "upper_bound1= upper_quartile1 + (1.5*iqr1)\n",
    "\n",
    "outliers1=[]\n",
    "for value in vol: \n",
    "    if(value<lower_bound1)| (value>upper_bound1):\n",
    "        outliers1.append(round(value,4))\n",
    "\n",
    "print(f\"Tumor volume less than {round(lower_bound1,4)} and greater than {round(upper_bound1,4)} are the potential outliers.\")\n",
    "print(f\"Number of Outliers: {len(outliers1)}\")\n",
    "if len(outliers1)>0:\n",
    "    print(f\"Outliers are: {outliers1}\")\n",
    "elif len(outliers1)==0:\n",
    "    print(\"No outliers.\")\n",
    "        "
   ]
  },
  {
   "cell_type": "code",
   "execution_count": 17,
   "metadata": {},
   "outputs": [
    {
     "name": "stdout",
     "output_type": "stream",
     "text": [
      "The upper quartile, lower quartile, median and IQR of the final tumor volume for Ramicane Regimen is:\n",
      "Lower quartile: 31.5605\n",
      "Upper quartile: 40.659\n",
      "IQR: 9.0985\n",
      "Median: 36.5617\n",
      "Tumor volume less than 17.9127 and greater than 54.3068 are the potential outliers.\n",
      "Number of Outliers: 0\n",
      "No outliers.\n"
     ]
    }
   ],
   "source": [
    "#Creating a dataframe containing data for only Ramicane drug\n",
    "\n",
    "Ramicane_df=Pharmaceuticals_df.loc[Pharmaceuticals_df[\"Drug Regimen\"]==\"Ramicane\",:]\n",
    "\n",
    "#Grouping Ramicane dataframe by Mouse ID to extract the max timepoint and further use it in extracting the final\n",
    "#tumor volume for each mouse being treated by the drug Ramicane\n",
    "Ramicane_group=Ramicane_df.groupby([\"Mouse ID\"])\n",
    "timespoint_max2=Ramicane_group[\"Timepoint\"].max()\n",
    "timespoint_max2\n",
    "list_times_index2=timespoint_max2.index\n",
    "vol2=[]\n",
    "for i in range(len(timespoint_max2)):\n",
    "    vol2.append(float(Ramicane_df[(Ramicane_df[\"Mouse ID\"]==list_times_index2[i])&(Ramicane_df[\"Timepoint\"]==timespoint_max2[i])][\"Tumor Volume (mm3)\"]))\n",
    "vol2 \n",
    "\n",
    "# Calculating the quartiles ,IQR and outliers quantitaively using the final tumor volume extracted for Ramicane drug\n",
    "vol_ramicane_df=pd.DataFrame({\"Final Tumor Volume\":vol2})\n",
    "vol_ramicane=vol_ramicane_df[\"Final Tumor Volume\"]\n",
    "vol_ramicane\n",
    "quartiles2=vol_ramicane.quantile([0.25,0.5,0.75])\n",
    "lower_quartile2=quartiles2[0.25]\n",
    "upper_quartile2=quartiles2[0.75]\n",
    "iqr2=upper_quartile2-lower_quartile2\n",
    "print(\"The upper quartile, lower quartile, median and IQR of the final tumor volume for Ramicane Regimen is:\")\n",
    "print(f\"Lower quartile: {round(lower_quartile2,4)}\")\n",
    "print(f\"Upper quartile: {round(upper_quartile2,4)}\")\n",
    "print(f\"IQR: {round(iqr2,4)}\")\n",
    "print(f\"Median: {round(quartiles2[0.5],4)}\")\n",
    "lower_bound2 = lower_quartile2 - (1.5*iqr2)\n",
    "upper_bound2 = upper_quartile2 + (1.5*iqr2)\n",
    "\n",
    "outliers2=[]\n",
    "for value in vol2: \n",
    "    if(value<lower_bound2)| (value>upper_bound2):\n",
    "        outliers2.append(round(value,4))\n",
    "\n",
    "print(f\"Tumor volume less than {round(lower_bound2,4)} and greater than {round(upper_bound2,4)} are the potential outliers.\")\n",
    "print(f\"Number of Outliers: {len(outliers2)}\")\n",
    "if len(outliers2)>0:\n",
    "    print(f\"Outliers are: {outliers2}\")\n",
    "elif len(outliers2)==0:\n",
    "    print(\"No outliers.\")\n"
   ]
  },
  {
   "cell_type": "code",
   "execution_count": 18,
   "metadata": {},
   "outputs": [
    {
     "name": "stdout",
     "output_type": "stream",
     "text": [
      "The upper quartile, lower quartile, median and IQR of the final tumor volume for Infubinol Regimen is:\n",
      "Lower quartile: 54.0486\n",
      "Upper quartile: 65.5257\n",
      "IQR: 11.4771\n",
      "Median: 60.1652\n",
      "Tumor volume less than 36.8329 and greater than 82.7414 are the potential outliers.\n",
      "Number of Outliers: 1\n",
      "Outliers are: [36.3213]\n"
     ]
    }
   ],
   "source": [
    "#Creating a dataframe containing data for only Infubinol drug\n",
    "Infubinol_df=Pharmaceuticals_df.loc[Pharmaceuticals_df[\"Drug Regimen\"]==\"Infubinol\",:]\n",
    "\n",
    "#Grouping Infubinol dataframe by Mouse ID to extract the max timepoint and further use it in extracting the final\n",
    "#tumor volume for each mouse being treated by the drug Infubinol\n",
    "Infubinol_group=Infubinol_df.groupby([\"Mouse ID\"])\n",
    "timespoint_max1=Infubinol_group[\"Timepoint\"].max()\n",
    "timespoint_max1\n",
    "list_times_index1=timespoint_max1.index\n",
    "vol1=[]\n",
    "for i in range(len(timespoint_max1)):\n",
    "    vol1.append(float(Infubinol_df[(Infubinol_df[\"Mouse ID\"]==list_times_index1[i])&(Infubinol_df[\"Timepoint\"]==timespoint_max1[i])][\"Tumor Volume (mm3)\"]))\n",
    "vol1  \n",
    " \n",
    "# Calculating the quartiles ,IQR and outliers quantitaively using the final tumor volume extracted for Infubinol drug\n",
    "vol_Infubinol_df=pd.DataFrame({\"Final Tumor Volume\":vol1})\n",
    "vol_Infubinol=vol_Infubinol_df[\"Final Tumor Volume\"]\n",
    "vol_Infubinol\n",
    "quartiles3=vol_Infubinol.quantile([0.25,0.5,0.75])\n",
    "lower_quartile3=quartiles3[0.25]\n",
    "upper_quartile3=quartiles3[0.75]\n",
    "iqr3=upper_quartile3-lower_quartile3\n",
    "print(\"The upper quartile, lower quartile, median and IQR of the final tumor volume for Infubinol Regimen is:\")\n",
    "print(f\"Lower quartile: {round(lower_quartile3,4)}\")\n",
    "print(f\"Upper quartile: {round(upper_quartile3,4)}\")\n",
    "print(f\"IQR: {round(iqr3,4)}\")\n",
    "print(f\"Median: {round(quartiles3[0.5],4)}\")\n",
    "lower_bound3 = lower_quartile3 - (1.5*iqr3)\n",
    "upper_bound3 = upper_quartile3 + (1.5*iqr3)\n",
    "\n",
    "outliers3=[]\n",
    "for value in vol1: \n",
    "    if(value<lower_bound3)| (value>upper_bound3):\n",
    "        outliers3.append(round(value,4))\n",
    "\n",
    "print(f\"Tumor volume less than {round(lower_bound3,4)} and greater than {round(upper_bound3,4)} are the potential outliers.\")\n",
    "print(f\"Number of Outliers: {len(outliers3)}\")\n",
    "if len(outliers3)>0:\n",
    "    print(f\"Outliers are: {outliers3}\")\n",
    "elif len(outliers3)==0:\n",
    "    print(\"No outliers.\")    "
   ]
  },
  {
   "cell_type": "code",
   "execution_count": 19,
   "metadata": {},
   "outputs": [
    {
     "name": "stdout",
     "output_type": "stream",
     "text": [
      "The upper quartile, lower quartile, median and IQR of the final tumor volume for Ceftamin Regimen is:\n",
      "Lower quartile: 48.7221\n",
      "Upper quartile: 64.2998\n",
      "IQR: 15.5778\n",
      "Median: 59.852\n",
      "Tumor volume less than 25.3554 and greater than 87.6665 are the potential outliers.\n",
      "Number of Outliers: 0\n",
      "No outliers.\n"
     ]
    }
   ],
   "source": [
    "#Creating a dataframe containing data for only Ceftamin drug\n",
    "Ceftamin_df=Pharmaceuticals_df.loc[Pharmaceuticals_df[\"Drug Regimen\"]==\"Ceftamin\",:]\n",
    "\n",
    "#Grouping Ceftamin dataframe by Mouse ID to extract the max timepoint and further use it in extracting the final\n",
    "#tumor volume for each mouse being treated by the drug Ceftamin\n",
    "Ceftamin_group=Ceftamin_df.groupby([\"Mouse ID\"])\n",
    "timespoint_max3=Ceftamin_group[\"Timepoint\"].max()\n",
    "timespoint_max3\n",
    "list_times_index3=timespoint_max3.index\n",
    "vol3=[]\n",
    "for i in range(len(timespoint_max3)):\n",
    "    vol3.append(float(Ceftamin_df[(Ceftamin_df[\"Mouse ID\"]==list_times_index3[i])&(Ceftamin_df[\"Timepoint\"]==timespoint_max3[i])][\"Tumor Volume (mm3)\"]))\n",
    "vol3  \n",
    " \n",
    "# Calculating the quartiles ,IQR and outliers quantitaively using the final tumor volume extracted for Ceftamin drug\n",
    "vol_Ceftamin_df=pd.DataFrame({\"Final Tumor Volume\":vol3})\n",
    "vol_Ceftamin=vol_Ceftamin_df[\"Final Tumor Volume\"]\n",
    "vol_Ceftamin\n",
    "quartiles4=vol_Ceftamin.quantile([0.25,0.5,0.75])\n",
    "lower_quartile4=quartiles4[0.25]\n",
    "upper_quartile4=quartiles4[0.75]\n",
    "iqr4=upper_quartile4-lower_quartile4\n",
    "print(\"The upper quartile, lower quartile, median and IQR of the final tumor volume for Ceftamin Regimen is:\")\n",
    "print(f\"Lower quartile: {round(lower_quartile4,4)}\")\n",
    "print(f\"Upper quartile: {round(upper_quartile4,4)}\")\n",
    "print(f\"IQR: {round(iqr4,4)}\")\n",
    "print(f\"Median: {round(quartiles4[0.5],4)}\")\n",
    "lower_bound4 = lower_quartile4 - (1.5*iqr4)\n",
    "upper_bound4 = upper_quartile4 + (1.5*iqr4)\n",
    "\n",
    "outliers4=[]\n",
    "for value in vol3: \n",
    "    if(value<lower_bound4)| (value>upper_bound4):\n",
    "        outliers4.append(round(value,4))\n",
    "\n",
    "print(f\"Tumor volume less than {round(lower_bound4,4)} and greater than {round(upper_bound4,4)} are the potential outliers.\")\n",
    "print(f\"Number of Outliers: {len(outliers4)}\")\n",
    "if len(outliers4)>0:\n",
    "    print(f\"Outliers are: {outliers4}\")\n",
    "elif len(outliers4)==0:\n",
    "    print(\"No outliers.\")\n"
   ]
  },
  {
   "cell_type": "code",
   "execution_count": 20,
   "metadata": {},
   "outputs": [
    {
     "data": {
      "image/png": "[encoded data removed]",
      "text/plain": [
       "<Figure size 432x288 with 1 Axes>"
      ]
     },
     "metadata": {
      "needs_background": "light"
     },
     "output_type": "display_data"
    }
   ],
   "source": [
    "# Generate a box plot of the final tumor volume of each mouse across four regimens of interest\n",
    "Volume=[vol_capomulin,vol_ramicane,vol_Infubinol,vol_Ceftamin]\n",
    "green_diamond = dict(markerfacecolor='g', marker='D')\n",
    "fig1, ax1 = plt.subplots()\n",
    "ax1.set_title('Final tumor volume of each mouse across four regimens of interest')\n",
    "ax1.set_ylabel('Final tumor volume (mm3)')\n",
    "ax1.boxplot(Volume, flierprops=green_diamond)\n",
    "ax1.set_xticklabels([\"Capomulin\",\"Ramicane\",\"Infubinol\",\"Ceftamine\"])\n",
    "plt.show()"
   ]
  },
  {
   "cell_type": "markdown",
   "metadata": {},
   "source": [
    "## Line and scatter plots"
   ]
  },
  {
   "cell_type": "code",
   "execution_count": 21,
   "metadata": {},
   "outputs": [
    {
     "name": "stdout",
     "output_type": "stream",
     "text": [
      "Enter the Id of the mouse for which you want to view the time plot treated with Capomulin b128\n"
     ]
    },
    {
     "data": {
      "image/png": "[encoded data removed]",
      "text/plain": [
       "<Figure size 432x288 with 1 Axes>"
      ]
     },
     "metadata": {
      "needs_background": "light"
     },
     "output_type": "display_data"
    }
   ],
   "source": [
    "# Generate a line plot of time point versus tumor volume for a mouse treated with Capomulin\n",
    "\n",
    "\n",
    "#Collecting the Mouse ID in form of list using the Capomulin dataframe created previously\n",
    "list_to_check=Capomulin_df[\"Mouse ID\"].tolist()\n",
    "\n",
    "#Asking the user for Mouse ID\n",
    "mouse_id=input(\"Enter the Id of the mouse for which you want to view the time plot treated with Capomulin \")\n",
    "\n",
    "#Plotting the time point vs tumor volume for the Mouse ID entered (also checking if the mouse id entered by user has actually been \n",
    "#treated by Capomulin drug)\n",
    "if(mouse_id in list_to_check):\n",
    "    time_plot_df=Capomulin_df.loc[Capomulin_df[\"Mouse ID\"]==mouse_id,:]\n",
    "    x_axis=time_plot_df[\"Timepoint\"]\n",
    "    y_axis=time_plot_df[\"Tumor Volume (mm3)\"]\n",
    "    plt.plot(x_axis,y_axis,color=\"red\",marker=\"o\")\n",
    "    plt.xlabel(\"Time point\")\n",
    "    plt.ylabel(\"Change in Tumor Volume with time\")\n",
    "    plt.xlim(0,46)\n",
    "    plt.title(\"Time point versus tumor volume of mouse with ID \"+mouse_id+\" treated with Capomulin\")\n",
    "    plt.show()\n",
    "elif(mouse_id  not in list_to_check):\n",
    "    print(\"Mouse ID entered has not been treated by Capomulin\")"
   ]
  },
  {
   "cell_type": "code",
   "execution_count": 22,
   "metadata": {},
   "outputs": [
    {
     "data": {
      "image/png": "[encoded data removed]",
      "text/plain": [
       "<Figure size 432x288 with 1 Axes>"
      ]
     },
     "metadata": {
      "needs_background": "light"
     },
     "output_type": "display_data"
    }
   ],
   "source": [
    "# Generate a scatter plot of mouse weight versus average tumor volume for the Capomulin regimen\n",
    "\n",
    "#Using the Capomulin dataframe grouped by Mouse ID(created previously) to calculate average tumor volume\n",
    "Average_volume=pd.DataFrame({\"Average Tumor Volume\":Capomulin_group[\"Tumor Volume (mm3)\"].mean(),\"Weight (g)\":Capomulin_group[\"Weight (g)\"].mean()})\n",
    "plt.scatter(Average_volume[\"Weight (g)\"],Average_volume[\"Average Tumor Volume\"],facecolor=\"r\",edgecolor=\"black\")\n",
    "plt.xlabel(\"Weight of mice in grams(g)\")\n",
    "plt.ylabel(\"Average Volume of Tumor\")\n",
    "plt.title(\"Mouse weight VS average tumor volume for Capomulin regimen\")\n",
    "plt.show()"
   ]
  },
  {
   "cell_type": "code",
   "execution_count": 23,
   "metadata": {},
   "outputs": [
    {
     "name": "stdout",
     "output_type": "stream",
     "text": [
      "The correlation coefficient for mouse weight and average tumor volume for the Capomulin regimen: 0.84\n"
     ]
    },
    {
     "data": {
      "image/png": "[encoded data removed]",
      "text/plain": [
       "<Figure size 432x288 with 1 Axes>"
      ]
     },
     "metadata": {
      "needs_background": "light"
     },
     "output_type": "display_data"
    }
   ],
   "source": [
    "# Calculate the correlation coefficient and linear regression model for mouse weight and average tumor volume for the Capomulin regimen\n",
    "\n",
    "corr=st.pearsonr(Average_volume[\"Weight (g)\"],Average_volume[\"Average Tumor Volume\"])\n",
    "print(f\"The correlation coefficient for mouse weight and average tumor volume for the Capomulin regimen: {round(corr[0],2)}\")\n",
    "x_values = Average_volume[\"Weight (g)\"]\n",
    "y_values = Average_volume[\"Average Tumor Volume\"]\n",
    "(slope, intercept, rvalue, pvalue, stderr) = linregress(x_values, y_values)\n",
    "regress_values = x_values * slope + intercept\n",
    "line_eq = \"y = \" + str(round(slope,2)) + \"x + \" + str(round(intercept,2))\n",
    "plt.scatter(x_values,y_values,facecolor=\"r\",edgecolor=\"black\")\n",
    "plt.plot(x_values,regress_values,\"b-\")\n",
    "plt.annotate(line_eq,(18,38),fontsize=15,color=\"b\")\n",
    "plt.xlabel(\"Weight of mice in grams(g)\")\n",
    "plt.ylabel(\"Average Volume of Tumor\")\n",
    "plt.title(\"Linear Regression model for mouse weight VS average tumor volume for Capomulin regimen\")\n",
    "plt.show()\n",
    "\n"
   ]
  },
  {
   "cell_type": "code",
   "execution_count": null,
   "metadata": {},
   "outputs": [],
   "source": []
  }
 ],
 "metadata": {
  "anaconda-cloud": {},
  "kernelspec": {
   "display_name": "Python 3",
   "language": "python",
   "name": "python3"
  },
  "language_info": {
   "codemirror_mode": {
    "name": "ipython",
    "version": 3
   },
   "file_extension": ".py",
   "mimetype": "text/x-python",
   "name": "python",
   "nbconvert_exporter": "python",
   "pygments_lexer": "ipython3",
   "version": "3.7.4"
  }
 },
 "nbformat": 4,
 "nbformat_minor": 2
}
